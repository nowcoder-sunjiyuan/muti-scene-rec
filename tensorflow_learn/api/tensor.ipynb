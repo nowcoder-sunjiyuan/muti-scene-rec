{
 "cells": [
  {
   "cell_type": "markdown",
   "source": [
    "sun: tf.expand_dim\n",
    "sun: tf.reduce_sum\n",
    "sun: tf.tensordot"
   ],
   "metadata": {
    "collapsed": false
   },
   "id": "2322fce494c7bf12"
  },
  {
   "cell_type": "code",
   "execution_count": 11,
   "id": "initial_id",
   "metadata": {
    "collapsed": true,
    "ExecuteTime": {
     "end_time": "2024-07-04T15:43:12.304070200Z",
     "start_time": "2024-07-04T15:43:12.264162600Z"
    }
   },
   "outputs": [],
   "source": [
    "import tensorflow as tf"
   ]
  },
  {
   "cell_type": "markdown",
   "source": [
    "## tf.expand_dim"
   ],
   "metadata": {
    "collapsed": false
   },
   "id": "9dba323e5fd20422"
  },
  {
   "cell_type": "code",
   "execution_count": 12,
   "outputs": [
    {
     "name": "stdout",
     "output_type": "stream",
     "text": [
      "tf.Tensor(\n",
      "[[9 7 7]\n",
      " [3 8 9]\n",
      " [0 3 1]\n",
      " [9 9 4]\n",
      " [4 2 5]], shape=(5, 3), dtype=int32)\n"
     ]
    }
   ],
   "source": [
    "# 生成形状为 [5, 3] 的，元素为 0 到 9 的浮点数随机张量\n",
    "random_float_tensor = tf.random.uniform(shape=[5, 3], minval=0, maxval=10)\n",
    "# 将浮点数随机张量转换为整数\n",
    "random_int_tensor = tf.cast(random_float_tensor, tf.int32)\n",
    "print(random_int_tensor)"
   ],
   "metadata": {
    "collapsed": false,
    "ExecuteTime": {
     "end_time": "2024-07-04T15:43:12.333563800Z",
     "start_time": "2024-07-04T15:43:12.305098500Z"
    }
   },
   "id": "c7f97381c072c484"
  },
  {
   "cell_type": "code",
   "execution_count": 13,
   "outputs": [
    {
     "data": {
      "text/plain": "<tf.Tensor: shape=(1, 5, 3), dtype=int32, numpy=\narray([[[9, 7, 7],\n        [3, 8, 9],\n        [0, 3, 1],\n        [9, 9, 4],\n        [4, 2, 5]]])>"
     },
     "execution_count": 13,
     "metadata": {},
     "output_type": "execute_result"
    }
   ],
   "source": [
    "tf.expand_dims(random_int_tensor, axis=0)"
   ],
   "metadata": {
    "collapsed": false,
    "ExecuteTime": {
     "end_time": "2024-07-04T15:43:12.333563800Z",
     "start_time": "2024-07-04T15:43:12.309216800Z"
    }
   },
   "id": "3092e05aec4d1ee3"
  },
  {
   "cell_type": "code",
   "execution_count": 14,
   "outputs": [
    {
     "data": {
      "text/plain": "<tf.Tensor: shape=(5, 1, 3), dtype=int32, numpy=\narray([[[9, 7, 7]],\n\n       [[3, 8, 9]],\n\n       [[0, 3, 1]],\n\n       [[9, 9, 4]],\n\n       [[4, 2, 5]]])>"
     },
     "execution_count": 14,
     "metadata": {},
     "output_type": "execute_result"
    }
   ],
   "source": [
    "tf.expand_dims(random_int_tensor, axis=1)"
   ],
   "metadata": {
    "collapsed": false,
    "ExecuteTime": {
     "end_time": "2024-07-04T15:43:12.357842600Z",
     "start_time": "2024-07-04T15:43:12.335623500Z"
    }
   },
   "id": "8106ebde0b73ce96"
  },
  {
   "cell_type": "code",
   "execution_count": 15,
   "outputs": [
    {
     "data": {
      "text/plain": "<tf.Tensor: shape=(5, 3, 1), dtype=int32, numpy=\narray([[[9],\n        [7],\n        [7]],\n\n       [[3],\n        [8],\n        [9]],\n\n       [[0],\n        [3],\n        [1]],\n\n       [[9],\n        [9],\n        [4]],\n\n       [[4],\n        [2],\n        [5]]])>"
     },
     "execution_count": 15,
     "metadata": {},
     "output_type": "execute_result"
    }
   ],
   "source": [
    "tf.expand_dims(random_int_tensor, axis=-1)"
   ],
   "metadata": {
    "collapsed": false,
    "ExecuteTime": {
     "end_time": "2024-07-04T15:43:12.358873700Z",
     "start_time": "2024-07-04T15:43:12.338770300Z"
    }
   },
   "id": "4109c6b8b143fe54"
  },
  {
   "cell_type": "markdown",
   "source": [
    "## tf.reduce_sum"
   ],
   "metadata": {
    "collapsed": false
   },
   "id": "7b203ad60251de68"
  },
  {
   "cell_type": "code",
   "execution_count": 16,
   "outputs": [
    {
     "name": "stdout",
     "output_type": "stream",
     "text": [
      "tf.Tensor(\n",
      "[[9 7 7]\n",
      " [3 8 9]\n",
      " [0 3 1]\n",
      " [9 9 4]\n",
      " [4 2 5]], shape=(5, 3), dtype=int32)\n",
      "tf.Tensor(80, shape=(), dtype=int32)\n"
     ]
    }
   ],
   "source": [
    "# 缩减所有的维度，并返回具有单个元素的张量（缩减求和）\n",
    "print(random_int_tensor)\n",
    "print(tf.reduce_sum(random_int_tensor))"
   ],
   "metadata": {
    "collapsed": false,
    "ExecuteTime": {
     "end_time": "2024-07-04T15:43:12.358873700Z",
     "start_time": "2024-07-04T15:43:12.346226800Z"
    }
   },
   "id": "e770e5f349ebb36"
  },
  {
   "cell_type": "code",
   "outputs": [
    {
     "name": "stdout",
     "output_type": "stream",
     "text": [
      "tf.Tensor([25 29 26], shape=(3,), dtype=int32)\n"
     ]
    }
   ],
   "source": [
    "# 在0维度上进行求和, (5, 3) -> (3,)\n",
    "print(tf.reduce_sum(random_int_tensor, 0))"
   ],
   "metadata": {
    "collapsed": false,
    "ExecuteTime": {
     "end_time": "2024-07-04T15:43:12.359904600Z",
     "start_time": "2024-07-04T15:43:12.352115200Z"
    }
   },
   "id": "88cdd0e8fcb2012d",
   "execution_count": 17
  },
  {
   "cell_type": "code",
   "outputs": [
    {
     "name": "stdout",
     "output_type": "stream",
     "text": [
      "tf.Tensor([23 20  4 22 11], shape=(5,), dtype=int32)\n"
     ]
    }
   ],
   "source": [
    "# 在1维度上求和，(5, 3) -> (5,)\n",
    "print(tf.reduce_sum(random_int_tensor, 1))"
   ],
   "metadata": {
    "collapsed": false,
    "ExecuteTime": {
     "end_time": "2024-07-04T15:43:12.370651300Z",
     "start_time": "2024-07-04T15:43:12.357842600Z"
    }
   },
   "id": "a318bd1bc3c2535e",
   "execution_count": 18
  },
  {
   "cell_type": "markdown",
   "source": [
    "## tf.tensordot"
   ],
   "metadata": {
    "collapsed": false
   },
   "id": "bc5b4905ef220f2c"
  },
  {
   "cell_type": "code",
   "outputs": [
    {
     "name": "stdout",
     "output_type": "stream",
     "text": [
      "tf.Tensor(26, shape=(), dtype=int32)\n"
     ]
    }
   ],
   "source": [
    "a = tf.constant([1, 2, 3])\n",
    "b = tf.constant([3, 4, 5])\n",
    "print(tf.tensordot(a, b, axes=1))"
   ],
   "metadata": {
    "collapsed": false,
    "ExecuteTime": {
     "end_time": "2024-07-04T15:43:12.427416300Z",
     "start_time": "2024-07-04T15:43:12.364133200Z"
    }
   },
   "id": "c699a3a6868409b9",
   "execution_count": 19
  },
  {
   "cell_type": "code",
   "outputs": [
    {
     "name": "stdout",
     "output_type": "stream",
     "text": [
      "tf.Tensor(\n",
      "[[ 32  50]\n",
      " [ 77 122]], shape=(2, 2), dtype=int32)\n"
     ]
    }
   ],
   "source": [
    "a = tf.constant([[1, 2, 3], \n",
    "                 [4, 5, 6]])\n",
    "b = tf.constant([[4, 5, 6], \n",
    "                [7, 8, 9]])\n",
    "# (2 * 3) * (3 * 2) :最后一个维度相乘，最后结果是：(2 * 2)\n",
    "print(tf.tensordot(a, tf.transpose(b), axes=1)) "
   ],
   "metadata": {
    "collapsed": false,
    "ExecuteTime": {
     "end_time": "2024-07-04T15:43:12.428900100Z",
     "start_time": "2024-07-04T15:43:12.370651300Z"
    }
   },
   "id": "b29eb72099ba3013",
   "execution_count": 20
  },
  {
   "cell_type": "markdown",
   "source": [
    "## tensor做运算"
   ],
   "metadata": {
    "collapsed": false
   },
   "id": "bdce14904f1722ff"
  },
  {
   "cell_type": "code",
   "outputs": [
    {
     "name": "stdout",
     "output_type": "stream",
     "text": [
      "tf.Tensor(\n",
      "[[ 5 12]\n",
      " [21 32]], shape=(2, 2), dtype=int32)\n",
      "tf.Tensor(\n",
      "[[-4 -4]\n",
      " [-4 -4]], shape=(2, 2), dtype=int32)\n",
      "tf.Tensor(\n",
      "[[10 12]\n",
      " [12 14]], shape=(2, 2), dtype=int32)\n"
     ]
    }
   ],
   "source": [
    "# 定义两个张量\n",
    "tensor1 = tf.constant([[1, 2], \n",
    "                       [3, 4]])\n",
    "tensor2 = tf.constant([[5, 6], \n",
    "                       [7, 8]])\n",
    "tensor3 = tf.constant([9, 10])\n",
    "\n",
    "\n",
    "# 使用 tf.multiply() 函数进行相乘\n",
    "result1 = tf.multiply(tensor1, tensor2)\n",
    "result2 = tf.subtract(tensor1, tensor2)\n",
    "\n",
    "# 或者直接使用 * 运算符\n",
    "result1 = tensor1 * tensor2\n",
    "result2 = tensor1 - tensor2\n",
    "result3 = tensor1 + tensor3\n",
    "# 打印结果\n",
    "print(result1)\n",
    "print(result2)\n",
    "print(result3)"
   ],
   "metadata": {
    "collapsed": false,
    "ExecuteTime": {
     "end_time": "2024-07-04T15:43:12.429944500Z",
     "start_time": "2024-07-04T15:43:12.376217700Z"
    }
   },
   "id": "6955b81b6fe85cf2",
   "execution_count": 21
  },
  {
   "cell_type": "code",
   "outputs": [
    {
     "name": "stdout",
     "output_type": "stream",
     "text": [
      "(None, 50, 32)\n",
      "(None, 32)\n",
      "2\n",
      "--------------------------------------\n"
     ]
    },
    {
     "ename": "ValueError",
     "evalue": "A KerasTensor cannot be used as input to a TensorFlow function. A KerasTensor is a symbolic placeholder for a shape and dtype, used when constructing Keras Functional models or Keras Functions. You can only use it as input to a Keras layer or a Keras operation (from the namespaces `keras.layers` and `keras.operations`). You are likely doing something like:\n\n```\nx = Input(...)\n...\ntf_fn(x)  # Invalid.\n```\n\nWhat you should do instead is wrap `tf_fn` in a layer:\n\n```\nclass MyLayer(Layer):\n    def call(self, x):\n        return tf_fn(x)\n\nx = MyLayer()(x)\n```\n",
     "output_type": "error",
     "traceback": [
      "\u001B[1;31m---------------------------------------------------------------------------\u001B[0m",
      "\u001B[1;31mValueError\u001B[0m                                Traceback (most recent call last)",
      "Cell \u001B[1;32mIn[22], line 9\u001B[0m\n\u001B[0;32m      7\u001B[0m \u001B[38;5;28mprint\u001B[39m(\u001B[38;5;124m'\u001B[39m\u001B[38;5;124m--------------------------------------\u001B[39m\u001B[38;5;124m'\u001B[39m)\n\u001B[0;32m      8\u001B[0m \u001B[38;5;66;03m## input数据每一个样本: [1, 2, 3, .....]  reshape后每一个样本：1个特征，每个特征32维 [[1,2,3,4,5,6 ...]]\u001B[39;00m\n\u001B[1;32m----> 9\u001B[0m input_reshape \u001B[38;5;241m=\u001B[39m \u001B[43mtf\u001B[49m\u001B[38;5;241;43m.\u001B[39;49m\u001B[43mreshape\u001B[49m\u001B[43m(\u001B[49m\u001B[38;5;28;43minput\u001B[39;49m\u001B[43m,\u001B[49m\u001B[43m \u001B[49m\u001B[43mshape\u001B[49m\u001B[38;5;241;43m=\u001B[39;49m\u001B[43m[\u001B[49m\u001B[38;5;241;43m-\u001B[39;49m\u001B[38;5;241;43m1\u001B[39;49m\u001B[43m,\u001B[49m\u001B[43m \u001B[49m\u001B[38;5;241;43m1\u001B[39;49m\u001B[43m,\u001B[49m\u001B[43m \u001B[49m\u001B[38;5;241;43m32\u001B[39;49m\u001B[43m]\u001B[49m\u001B[43m)\u001B[49m\n\u001B[0;32m     10\u001B[0m \u001B[38;5;28mprint\u001B[39m(input_reshape)   \u001B[38;5;66;03m## (none, 1, 32)\u001B[39;00m\n\u001B[0;32m     12\u001B[0m input_tile \u001B[38;5;241m=\u001B[39m tf\u001B[38;5;241m.\u001B[39mtile(input_reshape, multiples\u001B[38;5;241m=\u001B[39m[\u001B[38;5;241m1\u001B[39m, \u001B[38;5;241m50\u001B[39m, \u001B[38;5;241m1\u001B[39m])\n",
      "File \u001B[1;32mE:\\project\\muti-scene-rec\\venv\\Lib\\site-packages\\tensorflow\\python\\ops\\weak_tensor_ops.py:88\u001B[0m, in \u001B[0;36mweak_tensor_unary_op_wrapper.<locals>.wrapper\u001B[1;34m(*args, **kwargs)\u001B[0m\n\u001B[0;32m     86\u001B[0m \u001B[38;5;28;01mdef\u001B[39;00m \u001B[38;5;21mwrapper\u001B[39m(\u001B[38;5;241m*\u001B[39margs, \u001B[38;5;241m*\u001B[39m\u001B[38;5;241m*\u001B[39mkwargs):\n\u001B[0;32m     87\u001B[0m   \u001B[38;5;28;01mif\u001B[39;00m \u001B[38;5;129;01mnot\u001B[39;00m ops\u001B[38;5;241m.\u001B[39mis_auto_dtype_conversion_enabled():\n\u001B[1;32m---> 88\u001B[0m     \u001B[38;5;28;01mreturn\u001B[39;00m \u001B[43mop\u001B[49m\u001B[43m(\u001B[49m\u001B[38;5;241;43m*\u001B[39;49m\u001B[43margs\u001B[49m\u001B[43m,\u001B[49m\u001B[43m \u001B[49m\u001B[38;5;241;43m*\u001B[39;49m\u001B[38;5;241;43m*\u001B[39;49m\u001B[43mkwargs\u001B[49m\u001B[43m)\u001B[49m\n\u001B[0;32m     89\u001B[0m   bound_arguments \u001B[38;5;241m=\u001B[39m signature\u001B[38;5;241m.\u001B[39mbind(\u001B[38;5;241m*\u001B[39margs, \u001B[38;5;241m*\u001B[39m\u001B[38;5;241m*\u001B[39mkwargs)\n\u001B[0;32m     90\u001B[0m   bound_arguments\u001B[38;5;241m.\u001B[39mapply_defaults()\n",
      "File \u001B[1;32mE:\\project\\muti-scene-rec\\venv\\Lib\\site-packages\\tensorflow\\python\\util\\traceback_utils.py:153\u001B[0m, in \u001B[0;36mfilter_traceback.<locals>.error_handler\u001B[1;34m(*args, **kwargs)\u001B[0m\n\u001B[0;32m    151\u001B[0m \u001B[38;5;28;01mexcept\u001B[39;00m \u001B[38;5;167;01mException\u001B[39;00m \u001B[38;5;28;01mas\u001B[39;00m e:\n\u001B[0;32m    152\u001B[0m   filtered_tb \u001B[38;5;241m=\u001B[39m _process_traceback_frames(e\u001B[38;5;241m.\u001B[39m__traceback__)\n\u001B[1;32m--> 153\u001B[0m   \u001B[38;5;28;01mraise\u001B[39;00m e\u001B[38;5;241m.\u001B[39mwith_traceback(filtered_tb) \u001B[38;5;28;01mfrom\u001B[39;00m \u001B[38;5;28;01mNone\u001B[39;00m\n\u001B[0;32m    154\u001B[0m \u001B[38;5;28;01mfinally\u001B[39;00m:\n\u001B[0;32m    155\u001B[0m   \u001B[38;5;28;01mdel\u001B[39;00m filtered_tb\n",
      "File \u001B[1;32mE:\\project\\muti-scene-rec\\venv\\Lib\\site-packages\\keras\\src\\backend\\common\\keras_tensor.py:91\u001B[0m, in \u001B[0;36mKerasTensor.__tf_tensor__\u001B[1;34m(self, dtype, name)\u001B[0m\n\u001B[0;32m     90\u001B[0m \u001B[38;5;28;01mdef\u001B[39;00m \u001B[38;5;21m__tf_tensor__\u001B[39m(\u001B[38;5;28mself\u001B[39m, dtype\u001B[38;5;241m=\u001B[39m\u001B[38;5;28;01mNone\u001B[39;00m, name\u001B[38;5;241m=\u001B[39m\u001B[38;5;28;01mNone\u001B[39;00m):\n\u001B[1;32m---> 91\u001B[0m     \u001B[38;5;28;01mraise\u001B[39;00m \u001B[38;5;167;01mValueError\u001B[39;00m(\n\u001B[0;32m     92\u001B[0m         \u001B[38;5;124m\"\u001B[39m\u001B[38;5;124mA KerasTensor cannot be used as input to a TensorFlow function. \u001B[39m\u001B[38;5;124m\"\u001B[39m\n\u001B[0;32m     93\u001B[0m         \u001B[38;5;124m\"\u001B[39m\u001B[38;5;124mA KerasTensor is a symbolic placeholder for a shape and dtype, \u001B[39m\u001B[38;5;124m\"\u001B[39m\n\u001B[0;32m     94\u001B[0m         \u001B[38;5;124m\"\u001B[39m\u001B[38;5;124mused when constructing Keras Functional models \u001B[39m\u001B[38;5;124m\"\u001B[39m\n\u001B[0;32m     95\u001B[0m         \u001B[38;5;124m\"\u001B[39m\u001B[38;5;124mor Keras Functions. You can only use it as input to a Keras layer \u001B[39m\u001B[38;5;124m\"\u001B[39m\n\u001B[0;32m     96\u001B[0m         \u001B[38;5;124m\"\u001B[39m\u001B[38;5;124mor a Keras operation (from the namespaces `keras.layers` \u001B[39m\u001B[38;5;124m\"\u001B[39m\n\u001B[0;32m     97\u001B[0m         \u001B[38;5;124m\"\u001B[39m\u001B[38;5;124mand `keras.operations`). \u001B[39m\u001B[38;5;124m\"\u001B[39m\n\u001B[0;32m     98\u001B[0m         \u001B[38;5;124m\"\u001B[39m\u001B[38;5;124mYou are likely doing something like:\u001B[39m\u001B[38;5;130;01m\\n\u001B[39;00m\u001B[38;5;130;01m\\n\u001B[39;00m\u001B[38;5;124m\"\u001B[39m\n\u001B[0;32m     99\u001B[0m         \u001B[38;5;124m\"\u001B[39m\u001B[38;5;124m```\u001B[39m\u001B[38;5;130;01m\\n\u001B[39;00m\u001B[38;5;124m\"\u001B[39m\n\u001B[0;32m    100\u001B[0m         \u001B[38;5;124m\"\u001B[39m\u001B[38;5;124mx = Input(...)\u001B[39m\u001B[38;5;130;01m\\n\u001B[39;00m\u001B[38;5;124m\"\u001B[39m\n\u001B[0;32m    101\u001B[0m         \u001B[38;5;124m\"\u001B[39m\u001B[38;5;124m...\u001B[39m\u001B[38;5;130;01m\\n\u001B[39;00m\u001B[38;5;124m\"\u001B[39m\n\u001B[0;32m    102\u001B[0m         \u001B[38;5;124m\"\u001B[39m\u001B[38;5;124mtf_fn(x)  # Invalid.\u001B[39m\u001B[38;5;130;01m\\n\u001B[39;00m\u001B[38;5;124m\"\u001B[39m\n\u001B[0;32m    103\u001B[0m         \u001B[38;5;124m\"\u001B[39m\u001B[38;5;124m```\u001B[39m\u001B[38;5;130;01m\\n\u001B[39;00m\u001B[38;5;130;01m\\n\u001B[39;00m\u001B[38;5;124m\"\u001B[39m\n\u001B[0;32m    104\u001B[0m         \u001B[38;5;124m\"\u001B[39m\u001B[38;5;124mWhat you should do instead is wrap `tf_fn` in a layer:\u001B[39m\u001B[38;5;130;01m\\n\u001B[39;00m\u001B[38;5;130;01m\\n\u001B[39;00m\u001B[38;5;124m\"\u001B[39m\n\u001B[0;32m    105\u001B[0m         \u001B[38;5;124m\"\u001B[39m\u001B[38;5;124m```\u001B[39m\u001B[38;5;130;01m\\n\u001B[39;00m\u001B[38;5;124m\"\u001B[39m\n\u001B[0;32m    106\u001B[0m         \u001B[38;5;124m\"\u001B[39m\u001B[38;5;124mclass MyLayer(Layer):\u001B[39m\u001B[38;5;130;01m\\n\u001B[39;00m\u001B[38;5;124m\"\u001B[39m\n\u001B[0;32m    107\u001B[0m         \u001B[38;5;124m\"\u001B[39m\u001B[38;5;124m    def call(self, x):\u001B[39m\u001B[38;5;130;01m\\n\u001B[39;00m\u001B[38;5;124m\"\u001B[39m\n\u001B[0;32m    108\u001B[0m         \u001B[38;5;124m\"\u001B[39m\u001B[38;5;124m        return tf_fn(x)\u001B[39m\u001B[38;5;130;01m\\n\u001B[39;00m\u001B[38;5;130;01m\\n\u001B[39;00m\u001B[38;5;124m\"\u001B[39m\n\u001B[0;32m    109\u001B[0m         \u001B[38;5;124m\"\u001B[39m\u001B[38;5;124mx = MyLayer()(x)\u001B[39m\u001B[38;5;130;01m\\n\u001B[39;00m\u001B[38;5;124m\"\u001B[39m\n\u001B[0;32m    110\u001B[0m         \u001B[38;5;124m\"\u001B[39m\u001B[38;5;124m```\u001B[39m\u001B[38;5;130;01m\\n\u001B[39;00m\u001B[38;5;124m\"\u001B[39m\n\u001B[0;32m    111\u001B[0m     )\n",
      "\u001B[1;31mValueError\u001B[0m: A KerasTensor cannot be used as input to a TensorFlow function. A KerasTensor is a symbolic placeholder for a shape and dtype, used when constructing Keras Functional models or Keras Functions. You can only use it as input to a Keras layer or a Keras operation (from the namespaces `keras.layers` and `keras.operations`). You are likely doing something like:\n\n```\nx = Input(...)\n...\ntf_fn(x)  # Invalid.\n```\n\nWhat you should do instead is wrap `tf_fn` in a layer:\n\n```\nclass MyLayer(Layer):\n    def call(self, x):\n        return tf_fn(x)\n\nx = MyLayer()(x)\n```\n"
     ]
    }
   ],
   "source": [
    "keys = tf.keras.Input(shape=(50, 32), name='keys')\n",
    "print(keys.shape)\n",
    "input = tf.keras.Input(shape=(32,), name='input')  # (none, 32)\n",
    "input_shape = tf.keras.backend.int_shape(input) # (none, 32)\n",
    "print(input_shape)\n",
    "print(len(input_shape))\n",
    "print('--------------------------------------')\n",
    "## input数据每一个样本: [1, 2, 3, .....]  reshape后每一个样本：1个特征，每个特征32维 [[1,2,3,4,5,6 ...]]\n",
    "input_reshape = tf.reshape(input, shape=[-1, 1, 32])\n",
    "print(input_reshape)   ## (none, 1, 32)\n",
    "\n",
    "input_tile = tf.tile(input_reshape, multiples=[1, 50, 1])\n",
    "print(input_tile)    ## (none, 50, 32)  这个操作在特征上扩展了50倍啊 。变成了从[[1,2,3...],[1,2,3...]....]\n",
    "# 做减法，形状不变\n",
    "print(input_tile - keys) ## (none, 50, 32)\n",
    "print(input_tile * keys) ## (none, 50, 32)"
   ],
   "metadata": {
    "collapsed": false,
    "ExecuteTime": {
     "end_time": "2024-07-04T15:43:13.022514100Z",
     "start_time": "2024-07-04T15:43:12.389168600Z"
    }
   },
   "id": "5fed90c4b938d197",
   "execution_count": 22
  }
 ],
 "metadata": {
  "kernelspec": {
   "display_name": "Python 3",
   "language": "python",
   "name": "python3"
  },
  "language_info": {
   "codemirror_mode": {
    "name": "ipython",
    "version": 2
   },
   "file_extension": ".py",
   "mimetype": "text/x-python",
   "name": "python",
   "nbconvert_exporter": "python",
   "pygments_lexer": "ipython2",
   "version": "2.7.6"
  }
 },
 "nbformat": 4,
 "nbformat_minor": 5
}
