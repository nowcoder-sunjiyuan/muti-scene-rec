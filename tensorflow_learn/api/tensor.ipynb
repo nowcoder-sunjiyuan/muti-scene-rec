{
 "cells": [
  {
   "cell_type": "code",
   "execution_count": 1,
   "id": "initial_id",
   "metadata": {
    "collapsed": true,
    "ExecuteTime": {
     "end_time": "2024-06-28T10:03:11.780927Z",
     "start_time": "2024-06-28T10:03:09.287706Z"
    }
   },
   "outputs": [],
   "source": [
    "import tensorflow as tf"
   ]
  },
  {
   "cell_type": "markdown",
   "source": [
    "## tf.expand_dim"
   ],
   "metadata": {
    "collapsed": false
   },
   "id": "9dba323e5fd20422"
  },
  {
   "cell_type": "code",
   "execution_count": 2,
   "outputs": [
    {
     "name": "stdout",
     "output_type": "stream",
     "text": [
      "tf.Tensor(\n",
      "[[6 7 8]\n",
      " [4 2 4]\n",
      " [1 1 1]\n",
      " [9 7 5]\n",
      " [5 2 5]], shape=(5, 3), dtype=int32)\n"
     ]
    }
   ],
   "source": [
    "# 生成形状为 [5, 3] 的，元素为 0 到 9 的浮点数随机张量\n",
    "random_float_tensor = tf.random.uniform(shape=[5, 3], minval=0, maxval=10)\n",
    "# 将浮点数随机张量转换为整数\n",
    "random_int_tensor = tf.cast(random_float_tensor, tf.int32)\n",
    "print(random_int_tensor)"
   ],
   "metadata": {
    "collapsed": false,
    "ExecuteTime": {
     "end_time": "2024-06-28T10:03:11.793717Z",
     "start_time": "2024-06-28T10:03:11.788154Z"
    }
   },
   "id": "c7f97381c072c484"
  },
  {
   "cell_type": "code",
   "execution_count": 3,
   "outputs": [
    {
     "data": {
      "text/plain": "<tf.Tensor: shape=(1, 5, 3), dtype=int32, numpy=\narray([[[6, 7, 8],\n        [4, 2, 4],\n        [1, 1, 1],\n        [9, 7, 5],\n        [5, 2, 5]]], dtype=int32)>"
     },
     "execution_count": 3,
     "metadata": {},
     "output_type": "execute_result"
    }
   ],
   "source": [
    "tf.expand_dims(random_int_tensor, axis=0)"
   ],
   "metadata": {
    "collapsed": false,
    "ExecuteTime": {
     "end_time": "2024-06-28T10:03:11.816340Z",
     "start_time": "2024-06-28T10:03:11.793587Z"
    }
   },
   "id": "3092e05aec4d1ee3"
  },
  {
   "cell_type": "code",
   "execution_count": 4,
   "outputs": [
    {
     "data": {
      "text/plain": "<tf.Tensor: shape=(5, 1, 3), dtype=int32, numpy=\narray([[[6, 7, 8]],\n\n       [[4, 2, 4]],\n\n       [[1, 1, 1]],\n\n       [[9, 7, 5]],\n\n       [[5, 2, 5]]], dtype=int32)>"
     },
     "execution_count": 4,
     "metadata": {},
     "output_type": "execute_result"
    }
   ],
   "source": [
    "tf.expand_dims(random_int_tensor, axis=1)"
   ],
   "metadata": {
    "collapsed": false,
    "ExecuteTime": {
     "end_time": "2024-06-28T10:03:11.816608Z",
     "start_time": "2024-06-28T10:03:11.799262Z"
    }
   },
   "id": "8106ebde0b73ce96"
  },
  {
   "cell_type": "code",
   "execution_count": 5,
   "outputs": [
    {
     "data": {
      "text/plain": "<tf.Tensor: shape=(5, 3, 1), dtype=int32, numpy=\narray([[[6],\n        [7],\n        [8]],\n\n       [[4],\n        [2],\n        [4]],\n\n       [[1],\n        [1],\n        [1]],\n\n       [[9],\n        [7],\n        [5]],\n\n       [[5],\n        [2],\n        [5]]], dtype=int32)>"
     },
     "execution_count": 5,
     "metadata": {},
     "output_type": "execute_result"
    }
   ],
   "source": [
    "tf.expand_dims(random_int_tensor, axis=-1)"
   ],
   "metadata": {
    "collapsed": false,
    "ExecuteTime": {
     "end_time": "2024-06-28T10:04:19.708516Z",
     "start_time": "2024-06-28T10:04:19.701339Z"
    }
   },
   "id": "4109c6b8b143fe54"
  },
  {
   "cell_type": "code",
   "execution_count": null,
   "outputs": [],
   "source": [],
   "metadata": {
    "collapsed": false
   },
   "id": "e770e5f349ebb36"
  }
 ],
 "metadata": {
  "kernelspec": {
   "display_name": "Python 3",
   "language": "python",
   "name": "python3"
  },
  "language_info": {
   "codemirror_mode": {
    "name": "ipython",
    "version": 2
   },
   "file_extension": ".py",
   "mimetype": "text/x-python",
   "name": "python",
   "nbconvert_exporter": "python",
   "pygments_lexer": "ipython2",
   "version": "2.7.6"
  }
 },
 "nbformat": 4,
 "nbformat_minor": 5
}
