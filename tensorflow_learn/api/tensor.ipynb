{
 "cells": [
  {
   "cell_type": "markdown",
   "source": [
    "sun: tf.expand_dim\n",
    "sun: tf.reduce_sum"
   ],
   "metadata": {
    "collapsed": false
   },
   "id": "2322fce494c7bf12"
  },
  {
   "cell_type": "code",
   "execution_count": 2,
   "id": "initial_id",
   "metadata": {
    "collapsed": true,
    "ExecuteTime": {
     "end_time": "2024-06-30T15:51:28.908375600Z",
     "start_time": "2024-06-30T15:51:25.791058300Z"
    }
   },
   "outputs": [],
   "source": [
    "import tensorflow as tf"
   ]
  },
  {
   "cell_type": "markdown",
   "source": [
    "## tf.expand_dim"
   ],
   "metadata": {
    "collapsed": false
   },
   "id": "9dba323e5fd20422"
  },
  {
   "cell_type": "code",
   "execution_count": 3,
   "outputs": [
    {
     "name": "stdout",
     "output_type": "stream",
     "text": [
      "tf.Tensor(\n",
      "[[5 3 9]\n",
      " [4 3 3]\n",
      " [5 8 7]\n",
      " [3 4 6]\n",
      " [3 7 3]], shape=(5, 3), dtype=int32)\n"
     ]
    }
   ],
   "source": [
    "# 生成形状为 [5, 3] 的，元素为 0 到 9 的浮点数随机张量\n",
    "random_float_tensor = tf.random.uniform(shape=[5, 3], minval=0, maxval=10)\n",
    "# 将浮点数随机张量转换为整数\n",
    "random_int_tensor = tf.cast(random_float_tensor, tf.int32)\n",
    "print(random_int_tensor)"
   ],
   "metadata": {
    "collapsed": false,
    "ExecuteTime": {
     "end_time": "2024-06-30T15:51:28.932712700Z",
     "start_time": "2024-06-30T15:51:28.909379300Z"
    }
   },
   "id": "c7f97381c072c484"
  },
  {
   "cell_type": "code",
   "execution_count": 4,
   "outputs": [
    {
     "data": {
      "text/plain": "<tf.Tensor: shape=(1, 5, 3), dtype=int32, numpy=\narray([[[5, 3, 9],\n        [4, 3, 3],\n        [5, 8, 7],\n        [3, 4, 6],\n        [3, 7, 3]]])>"
     },
     "execution_count": 4,
     "metadata": {},
     "output_type": "execute_result"
    }
   ],
   "source": [
    "tf.expand_dims(random_int_tensor, axis=0)"
   ],
   "metadata": {
    "collapsed": false,
    "ExecuteTime": {
     "end_time": "2024-06-30T15:51:28.932712700Z",
     "start_time": "2024-06-30T15:51:28.928468Z"
    }
   },
   "id": "3092e05aec4d1ee3"
  },
  {
   "cell_type": "code",
   "execution_count": 5,
   "outputs": [
    {
     "data": {
      "text/plain": "<tf.Tensor: shape=(5, 1, 3), dtype=int32, numpy=\narray([[[5, 3, 9]],\n\n       [[4, 3, 3]],\n\n       [[5, 8, 7]],\n\n       [[3, 4, 6]],\n\n       [[3, 7, 3]]])>"
     },
     "execution_count": 5,
     "metadata": {},
     "output_type": "execute_result"
    }
   ],
   "source": [
    "tf.expand_dims(random_int_tensor, axis=1)"
   ],
   "metadata": {
    "collapsed": false,
    "ExecuteTime": {
     "end_time": "2024-06-30T15:51:28.940301Z",
     "start_time": "2024-06-30T15:51:28.933712600Z"
    }
   },
   "id": "8106ebde0b73ce96"
  },
  {
   "cell_type": "code",
   "execution_count": 6,
   "outputs": [
    {
     "data": {
      "text/plain": "<tf.Tensor: shape=(5, 3, 1), dtype=int32, numpy=\narray([[[5],\n        [3],\n        [9]],\n\n       [[4],\n        [3],\n        [3]],\n\n       [[5],\n        [8],\n        [7]],\n\n       [[3],\n        [4],\n        [6]],\n\n       [[3],\n        [7],\n        [3]]])>"
     },
     "execution_count": 6,
     "metadata": {},
     "output_type": "execute_result"
    }
   ],
   "source": [
    "tf.expand_dims(random_int_tensor, axis=-1)"
   ],
   "metadata": {
    "collapsed": false,
    "ExecuteTime": {
     "end_time": "2024-06-30T15:51:28.968748900Z",
     "start_time": "2024-06-30T15:51:28.938231600Z"
    }
   },
   "id": "4109c6b8b143fe54"
  },
  {
   "cell_type": "markdown",
   "source": [
    "## tf.reduce_sum"
   ],
   "metadata": {
    "collapsed": false
   },
   "id": "7b203ad60251de68"
  },
  {
   "cell_type": "code",
   "execution_count": 11,
   "outputs": [
    {
     "name": "stdout",
     "output_type": "stream",
     "text": [
      "tf.Tensor(\n",
      "[[5 3 9]\n",
      " [4 3 3]\n",
      " [5 8 7]\n",
      " [3 4 6]\n",
      " [3 7 3]], shape=(5, 3), dtype=int32)\n",
      "tf.Tensor(73, shape=(), dtype=int32)\n"
     ]
    }
   ],
   "source": [
    "# 缩减所有的维度，并返回具有单个元素的张量（缩减求和）\n",
    "print(random_int_tensor)\n",
    "print(tf.reduce_sum(random_int_tensor))"
   ],
   "metadata": {
    "collapsed": false,
    "ExecuteTime": {
     "end_time": "2024-06-30T15:56:26.318855Z",
     "start_time": "2024-06-30T15:56:26.316404100Z"
    }
   },
   "id": "e770e5f349ebb36"
  },
  {
   "cell_type": "code",
   "outputs": [
    {
     "name": "stdout",
     "output_type": "stream",
     "text": [
      "tf.Tensor([20 25 28], shape=(3,), dtype=int32)\n"
     ]
    }
   ],
   "source": [
    "# 在0维度上进行求和, (5, 3) -> (3,)\n",
    "print(tf.reduce_sum(random_int_tensor, 0))"
   ],
   "metadata": {
    "collapsed": false,
    "ExecuteTime": {
     "end_time": "2024-06-30T15:54:24.630221100Z",
     "start_time": "2024-06-30T15:54:24.629251900Z"
    }
   },
   "id": "88cdd0e8fcb2012d",
   "execution_count": 9
  },
  {
   "cell_type": "code",
   "outputs": [
    {
     "name": "stdout",
     "output_type": "stream",
     "text": [
      "tf.Tensor([17 10 20 13 13], shape=(5,), dtype=int32)\n"
     ]
    }
   ],
   "source": [
    "# 在1维度上求和，(5, 3) -> (5,)\n",
    "print(tf.reduce_sum(random_int_tensor, 1))"
   ],
   "metadata": {
    "collapsed": false,
    "ExecuteTime": {
     "end_time": "2024-06-30T15:55:04.225494100Z",
     "start_time": "2024-06-30T15:55:04.207947800Z"
    }
   },
   "id": "a318bd1bc3c2535e",
   "execution_count": 10
  },
  {
   "cell_type": "code",
   "outputs": [],
   "source": [],
   "metadata": {
    "collapsed": false
   },
   "id": "c699a3a6868409b9"
  }
 ],
 "metadata": {
  "kernelspec": {
   "display_name": "Python 3",
   "language": "python",
   "name": "python3"
  },
  "language_info": {
   "codemirror_mode": {
    "name": "ipython",
    "version": 2
   },
   "file_extension": ".py",
   "mimetype": "text/x-python",
   "name": "python",
   "nbconvert_exporter": "python",
   "pygments_lexer": "ipython2",
   "version": "2.7.6"
  }
 },
 "nbformat": 4,
 "nbformat_minor": 5
}
