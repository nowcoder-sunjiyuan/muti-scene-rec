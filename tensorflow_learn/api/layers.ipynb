{
 "cells": [
  {
   "cell_type": "markdown",
   "source": [
    "sun: layers.StringLookUp\n",
    "sun: layers.IntegerLookUp"
   ],
   "metadata": {
    "collapsed": false
   },
   "id": "e86a224bb020c545"
  },
  {
   "cell_type": "code",
   "execution_count": 10,
   "id": "initial_id",
   "metadata": {
    "collapsed": true,
    "ExecuteTime": {
     "end_time": "2024-07-01T16:56:57.731714600Z",
     "start_time": "2024-07-01T16:56:57.730208300Z"
    }
   },
   "outputs": [],
   "source": [
    "import tensorflow as tf\n",
    "from keras import layers \n",
    "import pandas as pd"
   ]
  },
  {
   "cell_type": "markdown",
   "source": [
    "## layers.StringLookUp"
   ],
   "metadata": {
    "collapsed": false
   },
   "id": "4d246b1c2eaf29d8"
  },
  {
   "cell_type": "code",
   "execution_count": 11,
   "outputs": [
    {
     "name": "stdout",
     "output_type": "stream",
     "text": [
      "['[UNK]', 'a', 'b', 'c', 'd']\n",
      "tf.Tensor(\n",
      "[[1 3 4]\n",
      " [4 0 2]], shape=(2, 3), dtype=int64)\n"
     ]
    }
   ],
   "source": [
    "vocab = [\"a\", \"b\", \"c\", \"d\"]\n",
    "data = tf.constant([[\"a\", \"c\", \"d\"], [\"d\", \"z\", \"b\"]])\n",
    "layer = layers.StringLookup(vocabulary=vocab)\n",
    "print(layer.get_vocabulary())\n",
    "print(layer(data))"
   ],
   "metadata": {
    "collapsed": false,
    "ExecuteTime": {
     "end_time": "2024-07-01T16:56:57.750269900Z",
     "start_time": "2024-07-01T16:56:57.732716200Z"
    }
   },
   "id": "582b5037286ae39e"
  },
  {
   "cell_type": "code",
   "execution_count": 12,
   "outputs": [],
   "source": [
    "#dataframe = pd.read_csv('../../data/feature_data.csv')\n",
    "#dataframe.head()"
   ],
   "metadata": {
    "collapsed": false,
    "ExecuteTime": {
     "end_time": "2024-07-01T16:56:57.755526Z",
     "start_time": "2024-07-01T16:56:57.741833900Z"
    }
   },
   "id": "8a3183a821d885a7"
  },
  {
   "cell_type": "code",
   "execution_count": 13,
   "outputs": [],
   "source": [
    "#labels = dataframe.pop('label')\n",
    "#ds = tf.data.Dataset.from_tensor_slices((dict(dataframe), labels))\n",
    "#ds = ds.shuffle(buffer_size=len(dataframe))\n",
    "#ds = ds.batch(5)\n",
    "#ds = ds.prefetch(5)\n",
    "\n",
    "#[(train_features, label_batch)] = ds.take(1)\n",
    "#print('Every feature:', list(train_features.keys()))\n",
    "#print('A batch of school_type:', train_features['school_type'])\n",
    "#print('A batch of label:', label_batch )"
   ],
   "metadata": {
    "collapsed": false,
    "ExecuteTime": {
     "end_time": "2024-07-01T16:56:57.756526200Z",
     "start_time": "2024-07-01T16:56:57.746269400Z"
    }
   },
   "id": "8fef2d316dff699c"
  },
  {
   "cell_type": "markdown",
   "source": [
    "## layers.IntegerLookUp"
   ],
   "metadata": {
    "collapsed": false
   },
   "id": "8a526713fb73e57a"
  },
  {
   "cell_type": "code",
   "execution_count": 14,
   "outputs": [
    {
     "name": "stdout",
     "output_type": "stream",
     "text": [
      "[-1, 0, 1, 2]\n",
      "tf.Tensor(\n",
      "[[0 1 2]\n",
      " [3 0 2]], shape=(2, 3), dtype=int64)\n"
     ]
    }
   ],
   "source": [
    "vocab = [0, 1, 2]\n",
    "data = tf.constant([[3, 0, 1], [2, 4, 1]])\n",
    "layer = layers.IntegerLookup(vocabulary=vocab)\n",
    "print(layer.get_vocabulary())\n",
    "print(layer(data))"
   ],
   "metadata": {
    "collapsed": false,
    "ExecuteTime": {
     "end_time": "2024-07-01T16:56:57.763411800Z",
     "start_time": "2024-07-01T16:56:57.753526200Z"
    }
   },
   "id": "7ee101f21900809e"
  }
 ],
 "metadata": {
  "kernelspec": {
   "display_name": "Python 3",
   "language": "python",
   "name": "python3"
  },
  "language_info": {
   "codemirror_mode": {
    "name": "ipython",
    "version": 2
   },
   "file_extension": ".py",
   "mimetype": "text/x-python",
   "name": "python",
   "nbconvert_exporter": "python",
   "pygments_lexer": "ipython2",
   "version": "2.7.6"
  }
 },
 "nbformat": 4,
 "nbformat_minor": 5
}
