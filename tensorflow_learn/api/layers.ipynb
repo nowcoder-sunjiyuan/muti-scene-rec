{
 "cells": [
  {
   "cell_type": "code",
   "execution_count": 24,
   "id": "initial_id",
   "metadata": {
    "collapsed": true,
    "ExecuteTime": {
     "end_time": "2024-06-26T04:16:08.994782Z",
     "start_time": "2024-06-26T04:16:08.989700Z"
    }
   },
   "outputs": [],
   "source": [
    "import tensorflow as tf\n",
    "from keras import layers \n",
    "import pandas as pd"
   ]
  },
  {
   "cell_type": "code",
   "execution_count": 25,
   "outputs": [
    {
     "name": "stdout",
     "output_type": "stream",
     "text": [
      "['[UNK]', 'a', 'b', 'c', 'd']\n",
      "tf.Tensor(\n",
      "[[1 3 4]\n",
      " [4 0 2]], shape=(2, 3), dtype=int64)\n"
     ]
    }
   ],
   "source": [
    "vocab = [\"a\", \"b\", \"c\", \"d\"]\n",
    "data = tf.constant([[\"a\", \"c\", \"d\"], [\"d\", \"z\", \"b\"]])\n",
    "layer = layers.StringLookup(vocabulary=vocab)\n",
    "print(layer.get_vocabulary())\n",
    "print(layer(data))"
   ],
   "metadata": {
    "collapsed": false,
    "ExecuteTime": {
     "end_time": "2024-06-26T04:16:09.016183Z",
     "start_time": "2024-06-26T04:16:09.000808Z"
    }
   },
   "id": "582b5037286ae39e"
  },
  {
   "cell_type": "code",
   "execution_count": 26,
   "outputs": [
    {
     "data": {
      "text/plain": "   gender        school     school_major school_type edu_work_status  \\\n0  ['其他']    ['重庆邮电大学']      ['电子科学与技术']      ['一本']             [1]   \n1  ['其他']     ['门头沟学院']     ['计算机科学与技术']      ['其他']             [2]   \n2  ['其他']  ['山东石油化工学院']      ['信息与计算科学']      ['其他']             [1]   \n3  ['其他']      ['浙江大学']  ['机械设计制造及其自动化']     ['985']             [1]   \n4  ['其他']    ['中国海洋大学']         ['软件工程']     ['985']             [1]   \n\n  work_status_detail career_job1_1 career_job1_2 career_job1_3 career_job2_2  \\\n0                [1]     ['11227']     ['11207']     ['11043']     ['<nan>']   \n1                [1]     ['11226']     ['11200']     ['11003']     ['<nan>']   \n2                [2]     ['11229']     ['11211']     ['11081']     ['11204']   \n3                [2]     ['11226']     ['11200']     ['11003']     ['<nan>']   \n4                [1]     ['11226']     ['11200']     ['11022']     ['<nan>']   \n\n   ... author_edu_work_status author_work_year         entity_id week_day  \\\n0  ...                    [1]              [4]  ['740002253360']      [1]   \n1  ...                    [1]              [3]  ['740002257785']      [1]   \n2  ...                    [1]              [4]   ['80001320069']      [1]   \n3  ...                    [1]              [3]  ['740002255568']      [1]   \n4  ...                    [1]              [3]  ['740002250307']      [1]   \n\n      platform pit_var label cvr_label    CES     pre_score  \n0      ['iOS']     [0]   [1]       [0]  [1.0]   [0.1892923]  \n1  ['Android']     [0]   [0]       [0]  [1.0]  [0.36448196]  \n2      ['iOS']    [12]   [1]       [0]  [1.0]  [0.04540528]  \n3  ['Android']     [0]   [0]       [0]  [1.0]  [0.15175472]  \n4      ['iOS']     [0]   [1]       [0]  [1.0]   [0.3342042]  \n\n[5 rows x 67 columns]",
      "text/html": "<div>\n<style scoped>\n    .dataframe tbody tr th:only-of-type {\n        vertical-align: middle;\n    }\n\n    .dataframe tbody tr th {\n        vertical-align: top;\n    }\n\n    .dataframe thead th {\n        text-align: right;\n    }\n</style>\n<table border=\"1\" class=\"dataframe\">\n  <thead>\n    <tr style=\"text-align: right;\">\n      <th></th>\n      <th>gender</th>\n      <th>school</th>\n      <th>school_major</th>\n      <th>school_type</th>\n      <th>edu_work_status</th>\n      <th>work_status_detail</th>\n      <th>career_job1_1</th>\n      <th>career_job1_2</th>\n      <th>career_job1_3</th>\n      <th>career_job2_2</th>\n      <th>...</th>\n      <th>author_edu_work_status</th>\n      <th>author_work_year</th>\n      <th>entity_id</th>\n      <th>week_day</th>\n      <th>platform</th>\n      <th>pit_var</th>\n      <th>label</th>\n      <th>cvr_label</th>\n      <th>CES</th>\n      <th>pre_score</th>\n    </tr>\n  </thead>\n  <tbody>\n    <tr>\n      <th>0</th>\n      <td>['其他']</td>\n      <td>['重庆邮电大学']</td>\n      <td>['电子科学与技术']</td>\n      <td>['一本']</td>\n      <td>[1]</td>\n      <td>[1]</td>\n      <td>['11227']</td>\n      <td>['11207']</td>\n      <td>['11043']</td>\n      <td>['&lt;nan&gt;']</td>\n      <td>...</td>\n      <td>[1]</td>\n      <td>[4]</td>\n      <td>['740002253360']</td>\n      <td>[1]</td>\n      <td>['iOS']</td>\n      <td>[0]</td>\n      <td>[1]</td>\n      <td>[0]</td>\n      <td>[1.0]</td>\n      <td>[0.1892923]</td>\n    </tr>\n    <tr>\n      <th>1</th>\n      <td>['其他']</td>\n      <td>['门头沟学院']</td>\n      <td>['计算机科学与技术']</td>\n      <td>['其他']</td>\n      <td>[2]</td>\n      <td>[1]</td>\n      <td>['11226']</td>\n      <td>['11200']</td>\n      <td>['11003']</td>\n      <td>['&lt;nan&gt;']</td>\n      <td>...</td>\n      <td>[1]</td>\n      <td>[3]</td>\n      <td>['740002257785']</td>\n      <td>[1]</td>\n      <td>['Android']</td>\n      <td>[0]</td>\n      <td>[0]</td>\n      <td>[0]</td>\n      <td>[1.0]</td>\n      <td>[0.36448196]</td>\n    </tr>\n    <tr>\n      <th>2</th>\n      <td>['其他']</td>\n      <td>['山东石油化工学院']</td>\n      <td>['信息与计算科学']</td>\n      <td>['其他']</td>\n      <td>[1]</td>\n      <td>[2]</td>\n      <td>['11229']</td>\n      <td>['11211']</td>\n      <td>['11081']</td>\n      <td>['11204']</td>\n      <td>...</td>\n      <td>[1]</td>\n      <td>[4]</td>\n      <td>['80001320069']</td>\n      <td>[1]</td>\n      <td>['iOS']</td>\n      <td>[12]</td>\n      <td>[1]</td>\n      <td>[0]</td>\n      <td>[1.0]</td>\n      <td>[0.04540528]</td>\n    </tr>\n    <tr>\n      <th>3</th>\n      <td>['其他']</td>\n      <td>['浙江大学']</td>\n      <td>['机械设计制造及其自动化']</td>\n      <td>['985']</td>\n      <td>[1]</td>\n      <td>[2]</td>\n      <td>['11226']</td>\n      <td>['11200']</td>\n      <td>['11003']</td>\n      <td>['&lt;nan&gt;']</td>\n      <td>...</td>\n      <td>[1]</td>\n      <td>[3]</td>\n      <td>['740002255568']</td>\n      <td>[1]</td>\n      <td>['Android']</td>\n      <td>[0]</td>\n      <td>[0]</td>\n      <td>[0]</td>\n      <td>[1.0]</td>\n      <td>[0.15175472]</td>\n    </tr>\n    <tr>\n      <th>4</th>\n      <td>['其他']</td>\n      <td>['中国海洋大学']</td>\n      <td>['软件工程']</td>\n      <td>['985']</td>\n      <td>[1]</td>\n      <td>[1]</td>\n      <td>['11226']</td>\n      <td>['11200']</td>\n      <td>['11022']</td>\n      <td>['&lt;nan&gt;']</td>\n      <td>...</td>\n      <td>[1]</td>\n      <td>[3]</td>\n      <td>['740002250307']</td>\n      <td>[1]</td>\n      <td>['iOS']</td>\n      <td>[0]</td>\n      <td>[1]</td>\n      <td>[0]</td>\n      <td>[1.0]</td>\n      <td>[0.3342042]</td>\n    </tr>\n  </tbody>\n</table>\n<p>5 rows × 67 columns</p>\n</div>"
     },
     "execution_count": 26,
     "metadata": {},
     "output_type": "execute_result"
    }
   ],
   "source": [
    "dataframe = pd.read_csv('../../data/feature_data.csv')\n",
    "dataframe.head()"
   ],
   "metadata": {
    "collapsed": false,
    "ExecuteTime": {
     "end_time": "2024-06-26T04:16:09.271916Z",
     "start_time": "2024-06-26T04:16:09.011028Z"
    }
   },
   "id": "8a3183a821d885a7"
  },
  {
   "cell_type": "code",
   "execution_count": 27,
   "outputs": [
    {
     "name": "stdout",
     "output_type": "stream",
     "text": [
      "Every feature: ['gender', 'school', 'school_major', 'school_type', 'edu_work_status', 'work_status_detail', 'career_job1_1', 'career_job1_2', 'career_job1_3', 'career_job2_2', 'career_job2_3', 'career_job3_2', 'career_job3_3', 'work_year', 'edu_level', 'hist_entity_id', 'max_len', 'comment_list_entity_id', 'comment_list_max_len', 'expo_not_click_entity_id', 'expo_not_click_max_len', 'short_term_companies', 'short_term_companies_weights', 'uid', 'reply_number', 'like_number', 'view_number', 'post_module', 'content_mode', 'circle_name', 'content_topic', 'topic_max_len', 'taxonomy1', 'taxonomy2', 'form', 'ctr', 'ctr_3', 'ctr_7', 'career_job_ctr', 'manual_career_job_1', 'manual_career_job_2', 'day_delta', 'company_keyword', 'company_keyword_max_len', 'skill_keyword', 'skill_keyword_max_len', 'title_keyword', 'title_keyword_max_len', 'author_uid', 'author_gender', 'author_career_job1_1', 'author_career_job1_2', 'author_career_job1_3', 'author_school', 'author_school_major', 'author_school_type', 'author_edu_level', 'author_edu_work_status', 'author_work_year', 'entity_id', 'week_day', 'platform', 'pit_var', 'cvr_label', 'CES', 'pre_score']\n",
      "A batch of school_type: tf.Tensor(\n",
      "[b\"['211']\" b\"['\\xe4\\xb8\\x80\\xe6\\x9c\\xac']\"\n",
      " b\"['\\xe6\\xb5\\xb7\\xe5\\xa4\\x96']\" b\"['985']\" b\"['<nan>']\"], shape=(5,), dtype=string)\n",
      "A batch of label: tf.Tensor([b'[1]' b'[0]' b'[0]' b'[1]' b'[0]'], shape=(5,), dtype=string)\n"
     ]
    },
    {
     "name": "stderr",
     "output_type": "stream",
     "text": [
      "2024-06-26 12:16:09.699582: W tensorflow/core/framework/local_rendezvous.cc:404] Local rendezvous is aborting with status: OUT_OF_RANGE: End of sequence\n"
     ]
    }
   ],
   "source": [
    "labels = dataframe.pop('label')\n",
    "ds = tf.data.Dataset.from_tensor_slices((dict(dataframe), labels))\n",
    "ds = ds.shuffle(buffer_size=len(dataframe))\n",
    "ds = ds.batch(5)\n",
    "ds = ds.prefetch(5)\n",
    "\n",
    "[(train_features, label_batch)] = ds.take(1)\n",
    "print('Every feature:', list(train_features.keys()))\n",
    "print('A batch of school_type:', train_features['school_type'])\n",
    "print('A batch of label:', label_batch )"
   ],
   "metadata": {
    "collapsed": false,
    "ExecuteTime": {
     "end_time": "2024-06-26T04:16:09.707158Z",
     "start_time": "2024-06-26T04:16:09.318194Z"
    }
   },
   "id": "8fef2d316dff699c"
  },
  {
   "cell_type": "code",
   "execution_count": null,
   "outputs": [],
   "source": [],
   "metadata": {
    "collapsed": false
   },
   "id": "7ee101f21900809e"
  }
 ],
 "metadata": {
  "kernelspec": {
   "display_name": "Python 3",
   "language": "python",
   "name": "python3"
  },
  "language_info": {
   "codemirror_mode": {
    "name": "ipython",
    "version": 2
   },
   "file_extension": ".py",
   "mimetype": "text/x-python",
   "name": "python",
   "nbconvert_exporter": "python",
   "pygments_lexer": "ipython2",
   "version": "2.7.6"
  }
 },
 "nbformat": 4,
 "nbformat_minor": 5
}
