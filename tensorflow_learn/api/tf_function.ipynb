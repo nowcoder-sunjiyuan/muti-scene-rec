{
 "cells": [
  {
   "cell_type": "code",
   "execution_count": 2,
   "id": "initial_id",
   "metadata": {
    "collapsed": true,
    "ExecuteTime": {
     "end_time": "2024-07-05T09:02:46.959937Z",
     "start_time": "2024-07-05T09:02:44.616764Z"
    }
   },
   "outputs": [],
   "source": [
    "import tensorflow as tf"
   ]
  },
  {
   "cell_type": "code",
   "execution_count": 5,
   "outputs": [
    {
     "name": "stdout",
     "output_type": "stream",
     "text": [
      "tf.Tensor(\n",
      "[[1 1 1 1 2 2 2 2 3 3 3 3]\n",
      " [4 4 4 4 5 5 5 5 6 6 6 6]], shape=(2, 12), dtype=int32)\n",
      "tf.Tensor(\n",
      "[[[1 2 3]]\n",
      "\n",
      " [[4 5 6]]], shape=(2, 1, 3), dtype=int32)\n",
      "tf.Tensor(\n",
      "[[[1 2 3]\n",
      "  [1 2 3]\n",
      "  [1 2 3]\n",
      "  [1 2 3]]\n",
      "\n",
      " [[4 5 6]\n",
      "  [4 5 6]\n",
      "  [4 5 6]\n",
      "  [4 5 6]]], shape=(2, 4, 3), dtype=int32)\n"
     ]
    }
   ],
   "source": [
    "# (2, 3)\n",
    "t1 = tf.constant([[1, 2, 3], [4, 5, 6]]) \n",
    "print(tf.repeat(t1, 4, 1))\n",
    "# (2, 1, 3)\n",
    "e_t1 = tf.expand_dims(t1, 1)\n",
    "print(e_t1)\n",
    "# (2, 4, 3)\n",
    "print(tf.repeat(e_t1, 4, 1))"
   ],
   "metadata": {
    "collapsed": false,
    "ExecuteTime": {
     "end_time": "2024-07-05T09:05:31.105509Z",
     "start_time": "2024-07-05T09:05:31.089412Z"
    }
   },
   "id": "6f6e44ab0fe34ad3"
  },
  {
   "cell_type": "code",
   "execution_count": 3,
   "outputs": [],
   "source": [],
   "metadata": {
    "collapsed": false,
    "ExecuteTime": {
     "end_time": "2024-07-05T09:02:46.980865Z",
     "start_time": "2024-07-05T09:02:46.977695Z"
    }
   },
   "id": "82f64a22b817f4f7"
  }
 ],
 "metadata": {
  "kernelspec": {
   "display_name": "Python 3",
   "language": "python",
   "name": "python3"
  },
  "language_info": {
   "codemirror_mode": {
    "name": "ipython",
    "version": 2
   },
   "file_extension": ".py",
   "mimetype": "text/x-python",
   "name": "python",
   "nbconvert_exporter": "python",
   "pygments_lexer": "ipython2",
   "version": "2.7.6"
  }
 },
 "nbformat": 4,
 "nbformat_minor": 5
}
